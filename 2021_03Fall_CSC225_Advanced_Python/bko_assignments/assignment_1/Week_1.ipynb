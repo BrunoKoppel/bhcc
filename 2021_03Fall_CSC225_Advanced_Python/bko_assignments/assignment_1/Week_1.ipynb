{
 "cells": [
  {
   "cell_type": "markdown",
   "source": [
    "Haiku assignment\r\n",
    "\r\n",
    "Steps:\r\n",
    "1. Break Haiku into Lines\r\n",
    "2. Break each Line into Words\r\n",
    "3. Create a function that given a word it finds its syllables"
   ],
   "metadata": {}
  }
 ],
 "metadata": {
  "orig_nbformat": 4,
  "language_info": {
   "name": "python"
  }
 },
 "nbformat": 4,
 "nbformat_minor": 2
}